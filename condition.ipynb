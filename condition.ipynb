{
 "cells": [
  {
   "attachments": {},
   "cell_type": "markdown",
   "metadata": {},
   "source": [
    "# condition"
   ]
  },
  {
   "cell_type": "markdown",
   "metadata": {},
   "source": [
    "# . if else \n",
    "# . nested if\n",
    "# . if elif else\n",
    "# . match "
   ]
  },
  {
   "cell_type": "code",
   "execution_count": 5,
   "metadata": {},
   "outputs": [
    {
     "ename": "ValueError",
     "evalue": "invalid literal for int() with base 10: 'kus'",
     "output_type": "error",
     "traceback": [
      "\u001b[1;31m---------------------------------------------------------------------------\u001b[0m",
      "\u001b[1;31mValueError\u001b[0m                                Traceback (most recent call last)",
      "Cell \u001b[1;32mIn[5], line 1\u001b[0m\n\u001b[1;32m----> 1\u001b[0m count \u001b[39m=\u001b[39m \u001b[39mint\u001b[39;49m(\u001b[39minput\u001b[39;49m(\u001b[39m\"\u001b[39;49m\u001b[39menter a value: \u001b[39;49m\u001b[39m\"\u001b[39;49m))\n\u001b[0;32m      2\u001b[0m \u001b[39mif\u001b[39;00m count \u001b[39m>\u001b[39m \u001b[39m5\u001b[39m:\n\u001b[0;32m      3\u001b[0m     \u001b[39mprint\u001b[39m(\u001b[39m\"\u001b[39m\u001b[39myou are going to run this part\u001b[39m\u001b[39m\"\u001b[39m)\n",
      "\u001b[1;31mValueError\u001b[0m: invalid literal for int() with base 10: 'kus'"
     ]
    }
   ],
   "source": [
    "count = int(input(\"enter a value: \"))\n",
    "if count > 5:\n",
    "    print(\"you are going to run this part\")\n",
    "\n",
    "if count > 15:\n",
    "    print(\"you are going to see this also\")\n",
    "\n",
    "if count%2 == 0:\n",
    "    print(\"count is even\")\n",
    "\n"
   ]
  },
  {
   "cell_type": "code",
   "execution_count": null,
   "metadata": {},
   "outputs": [
    {
     "name": "stdout",
     "output_type": "stream",
     "text": [
      "c=13 is greater\n"
     ]
    }
   ],
   "source": [
    "a = 10\n",
    "b = 5\n",
    "c = 13\n",
    "if a > b and a > c:\n",
    "    print(f'{a=} is greater')\n",
    "if b > c and b > a:\n",
    "    print(f'{b=} is greater')\n",
    "if c > a and c > b:\n",
    "    print(f'{c=} is greater')"
   ]
  },
  {
   "cell_type": "code",
   "execution_count": null,
   "metadata": {},
   "outputs": [
    {
     "name": "stdout",
     "output_type": "stream",
     "text": [
      "13 is greater\n"
     ]
    }
   ],
   "source": [
    "if a > b and a > c:\n",
    "    print('f{a=} is greater')\n",
    "elif b > c and b > a:\n",
    "    print(f'{b=} is greater')\n",
    "else:\n",
    "    print(f'{c} is greater')"
   ]
  },
  {
   "cell_type": "code",
   "execution_count": 15,
   "metadata": {},
   "outputs": [
    {
     "name": "stdout",
     "output_type": "stream",
     "text": [
      "hurray\n"
     ]
    }
   ],
   "source": [
    "username =input(\"enter your name: \")\n",
    "email = input(\"enter your email: \")\n",
    "pwd = input(\"enter new password: \")\n",
    "pwd2 = input(\"confirm your password: \")\n",
    "\n",
    "if len(username) >= 4 and len(username) <= 15:\n",
    "  if '@' in email and email.islower() and len(email) > 10:\n",
    "    if len(pwd) >= 6 and pwd != username:\n",
    "      if pwd == pwd2:\n",
    "        print(\"hurray\")\n",
    "      else:\n",
    "        print(\"password do not match\")\n",
    "    else:\n",
    "      print(\"password is invalid\")\n",
    "  else:\n",
    "    print(\"email is invalid\")\n",
    "else:\n",
    "  print(\"username is invalid\")               \n",
    "\n"
   ]
  },
  {
   "cell_type": "markdown",
   "metadata": {},
   "source": []
  },
  {
   "cell_type": "code",
   "execution_count": null,
   "metadata": {},
   "outputs": [],
   "source": []
  }
 ],
 "metadata": {
  "kernelspec": {
   "display_name": "base",
   "language": "python",
   "name": "python3"
  },
  "language_info": {
   "codemirror_mode": {
    "name": "ipython",
    "version": 3
   },
   "file_extension": ".py",
   "mimetype": "text/x-python",
   "name": "python",
   "nbconvert_exporter": "python",
   "pygments_lexer": "ipython3",
   "version": "3.10.8"
  },
  "orig_nbformat": 4,
  "vscode": {
   "interpreter": {
    "hash": "a68b644b62022853929bc29fb57b878af320ca6f7b22ed78e4462fa4a52c450c"
   }
  }
 },
 "nbformat": 4,
 "nbformat_minor": 2
}
